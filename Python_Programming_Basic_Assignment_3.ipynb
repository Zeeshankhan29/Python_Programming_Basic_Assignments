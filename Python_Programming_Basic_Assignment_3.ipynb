{
 "cells": [
  {
   "cell_type": "code",
   "execution_count": null,
   "id": "ac570f2e",
   "metadata": {},
   "outputs": [],
   "source": [
    "1. Write a Python Program to Check if a Number is Positive, Negative or Zero?"
   ]
  },
  {
   "cell_type": "code",
   "execution_count": 1,
   "id": "a78f39fe",
   "metadata": {},
   "outputs": [
    {
     "name": "stdout",
     "output_type": "stream",
     "text": [
      "Enter the Number 6\n",
      "6 is a Positive Number\n"
     ]
    }
   ],
   "source": [
    "#ANS:\n",
    "a=int(input(\"Enter the Number \",))\n",
    "\n",
    "if a>0:\n",
    "    print(a,\"is a Positive Number\")\n",
    "elif a==0:\n",
    "    print(a,\"is Zero\")\n",
    "else:\n",
    "    print(a,\"is a Negative Number\")"
   ]
  },
  {
   "cell_type": "code",
   "execution_count": null,
   "id": "8d124b56",
   "metadata": {},
   "outputs": [],
   "source": [
    "2. Write a Python Program to Check if a Number is Odd or Even?"
   ]
  },
  {
   "cell_type": "code",
   "execution_count": 2,
   "id": "ce1e9940",
   "metadata": {
    "scrolled": true
   },
   "outputs": [
    {
     "name": "stdout",
     "output_type": "stream",
     "text": [
      "Enter the Number 21\n",
      "21 is a Odd Number\n"
     ]
    }
   ],
   "source": [
    "#ANS:\n",
    "a=int(input(\"Enter the Number \",))\n",
    "if a%2==0:\n",
    "    print(a,\"is a Even Number\")\n",
    "else:\n",
    "    print(a,\"is a Odd Number\")"
   ]
  },
  {
   "cell_type": "code",
   "execution_count": null,
   "id": "5a6df29e",
   "metadata": {},
   "outputs": [],
   "source": [
    "3. Write a Python Program to Check Leap Year?"
   ]
  },
  {
   "cell_type": "code",
   "execution_count": 3,
   "id": "e66f51b7",
   "metadata": {},
   "outputs": [
    {
     "name": "stdout",
     "output_type": "stream",
     "text": [
      "Enter the year 2022\n",
      "2022 is not a Leap Year\n"
     ]
    }
   ],
   "source": [
    "#ANS:\n",
    "a=int(input(\"Enter the year \",))\n",
    "\n",
    "if a%4==0 and a%100!=0:\n",
    "    print(a, \"is a Leap Year\")\n",
    "    \n",
    "elif a%400==0 and a%100==0:\n",
    "     print(a, \"is a Leap Year\")\n",
    "    \n",
    "else:\n",
    "    print(a, \"is not a Leap Year\")"
   ]
  },
  {
   "cell_type": "code",
   "execution_count": null,
   "id": "6fc3ddbc",
   "metadata": {},
   "outputs": [],
   "source": [
    "4. Write a Python Program to Check Prime Number?"
   ]
  },
  {
   "cell_type": "code",
   "execution_count": 3,
   "id": "0502e0eb",
   "metadata": {},
   "outputs": [
    {
     "name": "stdout",
     "output_type": "stream",
     "text": [
      "Enter the Number 7\n",
      "7 is a prime number\n"
     ]
    }
   ],
   "source": [
    "#ANS:\n",
    "num=int(input('Enter the Number ',))\n",
    "flag = False\n",
    "\n",
    "# prime numbers are greater than 1\n",
    "if num > 1:\n",
    "    # check for factors\n",
    "    for i in range(2, num):\n",
    "        if (num % i) == 0:\n",
    "            # if factor is found, set flag to True\n",
    "            flag = True\n",
    "            # break out of loop\n",
    "            break\n",
    "\n",
    "# check if flag is True\n",
    "if flag:\n",
    "    print(num, \"is not a prime number\")\n",
    "else:\n",
    "    print(num, \"is a prime number\")\n",
    "        \n"
   ]
  },
  {
   "cell_type": "code",
   "execution_count": null,
   "id": "2a124015",
   "metadata": {},
   "outputs": [],
   "source": [
    "5. Write a Python Program to Print all Prime Numbers in an Interval of 1-10000?"
   ]
  },
  {
   "cell_type": "code",
   "execution_count": 7,
   "id": "d56991b6",
   "metadata": {},
   "outputs": [
    {
     "name": "stdout",
     "output_type": "stream",
     "text": [
      "10\n",
      "20\n",
      "The prime numbers between the ranges are\n",
      "11\n",
      "13\n",
      "17\n",
      "19\n"
     ]
    }
   ],
   "source": [
    "#ANS:\n",
    "lower_value=int(input())\n",
    "higher_value=int(input())\n",
    "\n",
    "print(\"The prime numbers between the ranges are\")\n",
    "for i in range(lower_value,higher_value+1):\n",
    "    if i>1:\n",
    "        for j in range(2,i):\n",
    "            if i%j==0:\n",
    "                break\n",
    "        else:\n",
    "            print(i)\n",
    "\n"
   ]
  },
  {
   "cell_type": "code",
   "execution_count": null,
   "id": "2561c7bd",
   "metadata": {},
   "outputs": [],
   "source": []
  }
 ],
 "metadata": {
  "kernelspec": {
   "display_name": "Python 3 (ipykernel)",
   "language": "python",
   "name": "python3"
  },
  "language_info": {
   "codemirror_mode": {
    "name": "ipython",
    "version": 3
   },
   "file_extension": ".py",
   "mimetype": "text/x-python",
   "name": "python",
   "nbconvert_exporter": "python",
   "pygments_lexer": "ipython3",
   "version": "3.9.7"
  }
 },
 "nbformat": 4,
 "nbformat_minor": 5
}
