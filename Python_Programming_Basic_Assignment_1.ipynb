{
 "cells": [
  {
   "cell_type": "code",
   "execution_count": null,
   "id": "990e219a",
   "metadata": {},
   "outputs": [],
   "source": [
    "1. Write a Python program to print \"Hello Python\"?"
   ]
  },
  {
   "cell_type": "code",
   "execution_count": 1,
   "id": "a2c68536",
   "metadata": {
    "scrolled": true
   },
   "outputs": [
    {
     "name": "stdout",
     "output_type": "stream",
     "text": [
      "Hello Python\n"
     ]
    }
   ],
   "source": [
    "#ANS:\n",
    "print(\"Hello Python\")"
   ]
  },
  {
   "cell_type": "code",
   "execution_count": null,
   "id": "86d32169",
   "metadata": {},
   "outputs": [],
   "source": [
    "2. Write a Python program to do arithmetical operations addition and division.?"
   ]
  },
  {
   "cell_type": "code",
   "execution_count": 6,
   "id": "1cc86b3e",
   "metadata": {},
   "outputs": [
    {
     "name": "stdout",
     "output_type": "stream",
     "text": [
      "Enter the value  50\n",
      "Enter the value  40\n",
      "The sum of two Numbers are 90.0\n",
      "The difference between the two Numbers are 10.0\n",
      "The multiplaction of the given two Numbers are 2000.0\n",
      "The division of given Numbers would be 1.25\n"
     ]
    }
   ],
   "source": [
    "#ANS:\n",
    "a=float(input(\"Enter the value  \" ,))\n",
    "b=float(input(\"Enter the value  \" ,))\n",
    "\n",
    "#To perform addition operation\n",
    "c=a+b\n",
    "print(\"The sum of two Numbers are\",c)\n",
    "\n",
    "#To perform substraction operation\n",
    "d=a-b\n",
    "print(\"The difference between the two Numbers are\" ,d)\n",
    "      \n",
    "#To perform multiplication operation\n",
    "      \n",
    "e=a*b\n",
    "print(\"The multiplaction of the given two Numbers are\" ,e)\n",
    "\n",
    "#To perform division operation\n",
    "f=a/b\n",
    "print(\"The division of given Numbers would be\" ,f)\n",
    "\n",
    "\n"
   ]
  },
  {
   "cell_type": "code",
   "execution_count": null,
   "id": "26ef0800",
   "metadata": {},
   "outputs": [],
   "source": [
    "3. Write a Python program to find the area of a triangle?"
   ]
  },
  {
   "cell_type": "code",
   "execution_count": 3,
   "id": "3b1ad65b",
   "metadata": {},
   "outputs": [
    {
     "name": "stdout",
     "output_type": "stream",
     "text": [
      "Enter the height of the Triangle 2.5\n",
      "Enter the base of the Triangle 1.5\n",
      "Area of the Triangle is  1.875\n"
     ]
    }
   ],
   "source": [
    "#ANS:\n",
    "a=float(input(\"Enter the height of the Triangle \", ))\n",
    "b=float(input(\"Enter the base of the Triangle \",  ))\n",
    "\n",
    "#To find out the Area of the Triangle\n",
    "m=0.5*a*b\n",
    "\n",
    "print(\"Area of the Triangle is \", m)"
   ]
  },
  {
   "cell_type": "code",
   "execution_count": null,
   "id": "9b73733e",
   "metadata": {},
   "outputs": [],
   "source": [
    "4. Write a Python program to swap two variables?"
   ]
  },
  {
   "cell_type": "code",
   "execution_count": 8,
   "id": "fb0b6050",
   "metadata": {},
   "outputs": [
    {
     "name": "stdout",
     "output_type": "stream",
     "text": [
      "Enter the value of 1st variable 40\n",
      "Enter the value of 2nd variable 60\n",
      "Values of the variables before swapping\n",
      "Value of a is  40.0\n",
      "Value of b is  60.0\n",
      "Values of the variables after swapping\n",
      "Value of a is  60.0\n",
      "Value of b is  40.0\n"
     ]
    }
   ],
   "source": [
    "#ANS:\n",
    "a=float(input(\"Enter the value of 1st variable \",))\n",
    "b=float(input(\"Enter the value of 2nd variable \",))\n",
    "\n",
    "#value of the variable before swapping\n",
    "print(\"Values of the variables before swapping\")\n",
    "print(\"Value of a is \",a)\n",
    "print(\"Value of b is \",b)\n",
    "\n",
    "\n",
    "#value of the variable after swapping\n",
    "a,b=b,a\n",
    "print(\"Values of the variables after swapping\")\n",
    "print(\"Value of a is \",a)\n",
    "print(\"Value of b is \",b)\n",
    "\n"
   ]
  },
  {
   "cell_type": "code",
   "execution_count": null,
   "id": "5f20bdfc",
   "metadata": {},
   "outputs": [],
   "source": [
    "5. Write a Python program to generate a random number?"
   ]
  },
  {
   "cell_type": "code",
   "execution_count": 9,
   "id": "8c3fa028",
   "metadata": {},
   "outputs": [
    {
     "name": "stdout",
     "output_type": "stream",
     "text": [
      "The random number is  25\n"
     ]
    }
   ],
   "source": [
    "#ANS:\n",
    "import random\n",
    "m=random.randint(0,100)\n",
    "print(\"The random number is \",m)\n"
   ]
  },
  {
   "cell_type": "code",
   "execution_count": null,
   "id": "c249a297",
   "metadata": {},
   "outputs": [],
   "source": []
  }
 ],
 "metadata": {
  "kernelspec": {
   "display_name": "Python 3 (ipykernel)",
   "language": "python",
   "name": "python3"
  },
  "language_info": {
   "codemirror_mode": {
    "name": "ipython",
    "version": 3
   },
   "file_extension": ".py",
   "mimetype": "text/x-python",
   "name": "python",
   "nbconvert_exporter": "python",
   "pygments_lexer": "ipython3",
   "version": "3.9.7"
  }
 },
 "nbformat": 4,
 "nbformat_minor": 5
}
