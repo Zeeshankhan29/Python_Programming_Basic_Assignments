{
 "cells": [
  {
   "cell_type": "code",
   "execution_count": null,
   "id": "83f4303d",
   "metadata": {},
   "outputs": [],
   "source": [
    "1. Write a Python program to convert kilometers to miles?"
   ]
  },
  {
   "cell_type": "code",
   "execution_count": 1,
   "id": "421afc4f",
   "metadata": {},
   "outputs": [
    {
     "name": "stdout",
     "output_type": "stream",
     "text": [
      "Enter the value in kilometers 25\n",
      "25.0 kilometer is  15.534275000000001 miles\n"
     ]
    }
   ],
   "source": [
    "#ANS:\n",
    "a=float(input(\"Enter the value in kilometers \",))\n",
    "\n",
    "#To convert the kilometer to mile \n",
    "#'x' kilometers = (0.621371x) miles\n",
    "miles=0.621371*a\n",
    "\n",
    "print(a, \"kilometer is \",miles,\"miles\")\n",
    "\n"
   ]
  },
  {
   "cell_type": "code",
   "execution_count": null,
   "id": "7439eaef",
   "metadata": {},
   "outputs": [],
   "source": [
    "2. Write a Python program to convert Celsius to Fahrenheit?"
   ]
  },
  {
   "cell_type": "code",
   "execution_count": 2,
   "id": "7ecac4bf",
   "metadata": {},
   "outputs": [
    {
     "name": "stdout",
     "output_type": "stream",
     "text": [
      "Enter the value of Celsius 25\n",
      "25.0  degree Celsius is equal to 77.0 degree Fahrenheit\n"
     ]
    }
   ],
   "source": [
    "#ANS:\n",
    "a=float(input(\"Enter the value of Celsius \", ))\n",
    "\n",
    "#To convert the value we follow the below formula.\n",
    "Fahrenheit=(9/5*a)+32\n",
    "\n",
    "print(a,\" degree Celsius is equal to\",Fahrenheit,\"degree Fahrenheit\")"
   ]
  },
  {
   "cell_type": "code",
   "execution_count": 13,
   "id": "7c55ab52",
   "metadata": {},
   "outputs": [],
   "source": [
    "3. Write a Python program to display calendar?"
   ]
  },
  {
   "cell_type": "code",
   "execution_count": 3,
   "id": "dc86e5d7",
   "metadata": {},
   "outputs": [
    {
     "name": "stdout",
     "output_type": "stream",
     "text": [
      "     April 2022\n",
      "Mo Tu We Th Fr Sa Su\n",
      "             1  2  3\n",
      " 4  5  6  7  8  9 10\n",
      "11 12 13 14 15 16 17\n",
      "18 19 20 21 22 23 24\n",
      "25 26 27 28 29 30\n",
      "\n"
     ]
    }
   ],
   "source": [
    "import calendar\n",
    "year=2022\n",
    "month=4\n",
    "\n",
    "print(calendar.month(year,month))"
   ]
  },
  {
   "cell_type": "code",
   "execution_count": null,
   "id": "f4d2121b",
   "metadata": {},
   "outputs": [],
   "source": [
    "4. Write a Python program to solve quadratic equation?"
   ]
  },
  {
   "cell_type": "code",
   "execution_count": 4,
   "id": "432def87",
   "metadata": {
    "scrolled": true
   },
   "outputs": [
    {
     "name": "stdout",
     "output_type": "stream",
     "text": [
      "Enter the value 1\n",
      "Enter the value 5\n",
      "Enter the value 6\n",
      "The first solution is  (-2+0j)\n",
      "The second solution is  (-3+0j)\n"
     ]
    }
   ],
   "source": [
    "#ANS:\n",
    "import cmath\n",
    "a=int(input(\"Enter the value \",))\n",
    "b=int(input(\"Enter the value \",))\n",
    "c=int(input(\"Enter the value \",))\n",
    "\n",
    "d=((b**2)-(4*a*c))\n",
    "\n",
    "sol1=(-b+cmath.sqrt(d))/(2*a)\n",
    "sol2=(-b-cmath.sqrt(d))/(2*a)\n",
    "\n",
    "print(\"The first solution is \",sol1)\n",
    "print(\"The second solution is \",sol2)\n"
   ]
  },
  {
   "cell_type": "code",
   "execution_count": null,
   "id": "eb2a9585",
   "metadata": {},
   "outputs": [],
   "source": [
    "5. Write a Python program to swap two variables without temp variable?"
   ]
  },
  {
   "cell_type": "code",
   "execution_count": 5,
   "id": "2df96723",
   "metadata": {},
   "outputs": [
    {
     "name": "stdout",
     "output_type": "stream",
     "text": [
      "Enter the value of 1st variable 20\n",
      "Enter the value of 2nd variable 60\n",
      "Values of the variables before swapping\n",
      "Value of a is  20.0\n",
      "Value of b is  60.0\n",
      "Values of the variables after swapping\n",
      "Value of a is  60.0\n",
      "Value of b is  20.0\n"
     ]
    }
   ],
   "source": [
    "#ANS:\n",
    "a=float(input(\"Enter the value of 1st variable \",))\n",
    "b=float(input(\"Enter the value of 2nd variable \",))\n",
    "\n",
    "#value of the variable before swapping\n",
    "print(\"Values of the variables before swapping\")\n",
    "print(\"Value of a is \",a)\n",
    "print(\"Value of b is \",b)\n",
    "\n",
    "\n",
    "#value of the variable after swapping\n",
    "a,b=b,a\n",
    "print(\"Values of the variables after swapping\")\n",
    "print(\"Value of a is \",a)\n",
    "print(\"Value of b is \",b)\n"
   ]
  }
 ],
 "metadata": {
  "kernelspec": {
   "display_name": "Python 3 (ipykernel)",
   "language": "python",
   "name": "python3"
  },
  "language_info": {
   "codemirror_mode": {
    "name": "ipython",
    "version": 3
   },
   "file_extension": ".py",
   "mimetype": "text/x-python",
   "name": "python",
   "nbconvert_exporter": "python",
   "pygments_lexer": "ipython3",
   "version": "3.9.7"
  }
 },
 "nbformat": 4,
 "nbformat_minor": 5
}
