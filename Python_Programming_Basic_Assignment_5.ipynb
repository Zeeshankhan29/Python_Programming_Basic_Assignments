{
 "cells": [
  {
   "cell_type": "code",
   "execution_count": null,
   "id": "837986ac",
   "metadata": {},
   "outputs": [],
   "source": [
    "1.Write a Python Program to Find LCM?"
   ]
  },
  {
   "cell_type": "code",
   "execution_count": 51,
   "id": "f49ccd72",
   "metadata": {},
   "outputs": [
    {
     "name": "stdout",
     "output_type": "stream",
     "text": [
      "The LCM  of given numbers are 216\n"
     ]
    }
   ],
   "source": [
    "#ANS:\n",
    "#To finf the LCM of two numbers:\n",
    "def calcu_lcm(x,y):\n",
    "    if x>y:\n",
    "        greater=x\n",
    "    else:\n",
    "        greater=y\n",
    "    while (True):\n",
    "        if greater%x==0 and greater%y==0:\n",
    "            lcm=greater\n",
    "            break\n",
    "        greater+=1\n",
    "    return lcm\n",
    "a=54\n",
    "b=24\n",
    "print(\"The LCM  of given numbers are\",calcu_lcm(a,b))"
   ]
  },
  {
   "cell_type": "code",
   "execution_count": null,
   "id": "01e13dc0",
   "metadata": {},
   "outputs": [],
   "source": [
    "2.Write a Python Program to Find HCF?"
   ]
  },
  {
   "cell_type": "code",
   "execution_count": 52,
   "id": "4d043436",
   "metadata": {},
   "outputs": [
    {
     "name": "stdout",
     "output_type": "stream",
     "text": [
      "Enter first number: 200\n",
      "Enter second number: 100\n",
      "The H.C.F. of 200 and 100 is 100\n"
     ]
    }
   ],
   "source": [
    "#ANS:\n",
    "#To finf the HCF of two numbers:\n",
    "def calculate_hcf(x, y):  \n",
    "    # selecting the smaller number  \n",
    "    if x > y:  \n",
    "        smaller = y  \n",
    "    else:  \n",
    "        smaller = x  \n",
    "    for i in range(1,smaller + 1):  \n",
    "        if((x % i == 0) and (y % i == 0)):  \n",
    "            hcf = i  \n",
    "    return hcf  \n",
    "  \n",
    "# taking input from users  \n",
    "num1 = int(input(\"Enter first number: \"))  \n",
    "num2 = int(input(\"Enter second number: \"))  \n",
    "# printing the result for the users  \n",
    "print(\"The H.C.F. of\", num1,\"and\", num2,\"is\", calculate_hcf(num1, num2))  \n"
   ]
  },
  {
   "cell_type": "code",
   "execution_count": null,
   "id": "4922a3c1",
   "metadata": {},
   "outputs": [],
   "source": [
    "3.Write a Python Program to Convert Decimal to Binary, Octal and Hexadecimal?"
   ]
  },
  {
   "cell_type": "code",
   "execution_count": 54,
   "id": "aa3e127a",
   "metadata": {},
   "outputs": [
    {
     "name": "stdout",
     "output_type": "stream",
     "text": [
      "The binary of  given Decimal number   15 is 0b1111\n",
      "The Octal of given Decimal number  15 is 0o17\n",
      "The Hexadeciaml of given Decimal number  15 is 0xf\n"
     ]
    }
   ],
   "source": [
    "#ANS:\n",
    "a=15\n",
    "#To convert Decimal to Binary\n",
    "b=bin(a)\n",
    "print(\"The binary of  given Decimal number  \",a, \"is\",b)\n",
    "#To convert Decimal to Octal\n",
    "c=oct(a)\n",
    "print(\"The Octal of given Decimal number \",a, \"is\",c)\n",
    "#To convert Decimal to Hexadecimal\n",
    "d=hex(a)\n",
    "print(\"The Hexadeciaml of given Decimal number \",a, \"is\",d)\n"
   ]
  },
  {
   "cell_type": "code",
   "execution_count": null,
   "id": "21fced92",
   "metadata": {},
   "outputs": [],
   "source": [
    "4.Write a Python Program To Find ASCII value of a character?"
   ]
  },
  {
   "cell_type": "code",
   "execution_count": 55,
   "id": "6b42f2c4",
   "metadata": {},
   "outputs": [
    {
     "name": "stdout",
     "output_type": "stream",
     "text": [
      "Enter the character  l\n",
      "The ASCII value of l is 108\n"
     ]
    }
   ],
   "source": [
    "#ANS:\n",
    "f=input(\"Enter the character  \",)\n",
    "print(\"The ASCII value of\",f,\"is\",ord(f))"
   ]
  },
  {
   "cell_type": "code",
   "execution_count": null,
   "id": "2ec6133f",
   "metadata": {},
   "outputs": [],
   "source": [
    "5. Write a Python Program to Make a Simple Calculator with 4 basic mathematical operations?"
   ]
  },
  {
   "cell_type": "code",
   "execution_count": 56,
   "id": "d9bcc1ac",
   "metadata": {},
   "outputs": [
    {
     "name": "stdout",
     "output_type": "stream",
     "text": [
      "My calculator can do the followings\n",
      "a.Addition\n",
      "b.Substraction\n",
      "c.division\n",
      "d.multiplication\n",
      "Please select the operation to perform (a/b/c/d) : d\n",
      "600\n",
      "100\n",
      "600 * 100 = 60000\n"
     ]
    }
   ],
   "source": [
    "#ANS:\n",
    "#Lets define the funtions for arithmetic operations.\n",
    "def add(a,b):\n",
    "    return a+b\n",
    "def sub(a,b):\n",
    "    return a-b\n",
    "def div(a,b):\n",
    "    return a/b\n",
    "def mult(a,b):\n",
    "    return a*b\n",
    "\n",
    "print(\"My calculator can do the followings\")\n",
    "print(\"a.Addition\")\n",
    "print(\"b.Substraction\")\n",
    "print(\"c.division\")\n",
    "print(\"d.multiplication\")\n",
    "\n",
    "choice=input(\"Please select the operation to perform (a/b/c/d) : \",)\n",
    "c=int(input())\n",
    "d=int(input())\n",
    "if choice=='a':\n",
    "    print(c,\"+\",d,'=',add(c,d))\n",
    "elif choice=='b':\n",
    "    print(c,\"-\",d,'=',sub(c,d))\n",
    "elif choice=='c':\n",
    "    print(c,\"/\",d,'=',div(c,d))\n",
    "elif choice=='d':\n",
    "    print(c,\"*\",d,'=',mult(c,d))\n",
    "\n",
    "else:\n",
    "    print(\"Enter the valid input\")\n"
   ]
  },
  {
   "cell_type": "code",
   "execution_count": null,
   "id": "b8803d89",
   "metadata": {},
   "outputs": [],
   "source": []
  }
 ],
 "metadata": {
  "kernelspec": {
   "display_name": "Python 3 (ipykernel)",
   "language": "python",
   "name": "python3"
  },
  "language_info": {
   "codemirror_mode": {
    "name": "ipython",
    "version": 3
   },
   "file_extension": ".py",
   "mimetype": "text/x-python",
   "name": "python",
   "nbconvert_exporter": "python",
   "pygments_lexer": "ipython3",
   "version": "3.9.7"
  }
 },
 "nbformat": 4,
 "nbformat_minor": 5
}
