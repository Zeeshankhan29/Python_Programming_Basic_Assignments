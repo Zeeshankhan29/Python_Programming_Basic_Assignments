{
 "cells": [
  {
   "cell_type": "code",
   "execution_count": null,
   "id": "f98b4433",
   "metadata": {},
   "outputs": [],
   "source": [
    "1. Write a Python Program to Display Fibonacci Sequence Using Recursion?"
   ]
  },
  {
   "cell_type": "code",
   "execution_count": 1,
   "id": "2461594c",
   "metadata": {},
   "outputs": [
    {
     "name": "stdout",
     "output_type": "stream",
     "text": [
      "Enter the value to print 12\n",
      "0\n",
      "1\n",
      "1\n",
      "2\n",
      "3\n",
      "5\n",
      "8\n",
      "13\n",
      "21\n",
      "34\n",
      "55\n",
      "89\n"
     ]
    }
   ],
   "source": [
    "#ANS:\n",
    "def Fib(n):\n",
    "    if n<=1:\n",
    "        return n\n",
    "    else:\n",
    "        return (Fib(n-1)+Fib(n-2))\n",
    "nterms=int(input(\"Enter the value to print \"))\n",
    "if nterms<=0:\n",
    "    print('Enter the valid input ')\n",
    "for i in range(nterms):\n",
    "    print(Fib(i))"
   ]
  },
  {
   "cell_type": "code",
   "execution_count": null,
   "id": "68ee6607",
   "metadata": {},
   "outputs": [],
   "source": [
    "2. Write a Python Program to Find Factorial of Number Using Recursion?"
   ]
  },
  {
   "cell_type": "code",
   "execution_count": 2,
   "id": "d58532dd",
   "metadata": {},
   "outputs": [
    {
     "name": "stdout",
     "output_type": "stream",
     "text": [
      "Enter the number 8\n",
      "40320\n"
     ]
    }
   ],
   "source": [
    "def facx(n):\n",
    "    if n==1:\n",
    "        return n\n",
    "    else:\n",
    "        return (n*facx(n-1))\n",
    "a=int(input('Enter the number ',))\n",
    "if a<0:\n",
    "    print(\"Please enter the valid input\")\n",
    "elif a==0:\n",
    "    print(\"Factorial of \",a,\"is \" ,1)\n",
    "else:\n",
    "    print(facx(a))"
   ]
  },
  {
   "cell_type": "code",
   "execution_count": 3,
   "id": "7bdad9a9",
   "metadata": {},
   "outputs": [],
   "source": [
    "3. Write a Python Program to calculate your Body Mass Index?"
   ]
  },
  {
   "cell_type": "code",
   "execution_count": 3,
   "id": "60212825",
   "metadata": {},
   "outputs": [
    {
     "name": "stdout",
     "output_type": "stream",
     "text": [
      "Enter the weight of the Body 60000\n",
      "Enter the weight of the Body 200\n",
      "The Body Mass Index is  1.5\n"
     ]
    }
   ],
   "source": [
    "\n",
    "#ANS:\n",
    "#Lets define the weight and height of the Body.\n",
    "weight=float(input(\"Enter the weight of the Body \",))\n",
    "height=float(input(\"Enter the weight of the Body \",))\n",
    "a=(weight/(height*height))\n",
    "b=round(a,2)\n",
    "print(\"The Body Mass Index is \",b)"
   ]
  },
  {
   "cell_type": "code",
   "execution_count": null,
   "id": "ecb8e949",
   "metadata": {},
   "outputs": [],
   "source": [
    "4. Write a Python Program to calculate the natural logarithm of any number?"
   ]
  },
  {
   "cell_type": "code",
   "execution_count": 4,
   "id": "b1fe7bc2",
   "metadata": {},
   "outputs": [
    {
     "name": "stdout",
     "output_type": "stream",
     "text": [
      "2.302585092994046\n"
     ]
    }
   ],
   "source": [
    "#ANS:\n",
    "import math\n",
    "print(math.log(10))"
   ]
  },
  {
   "cell_type": "code",
   "execution_count": null,
   "id": "920263d5",
   "metadata": {},
   "outputs": [],
   "source": [
    "5. Write a Python Program for cube sum of first n natural numbers?"
   ]
  },
  {
   "cell_type": "code",
   "execution_count": 5,
   "id": "c152b5fc",
   "metadata": {},
   "outputs": [
    {
     "data": {
      "text/plain": [
       "1296"
      ]
     },
     "execution_count": 5,
     "metadata": {},
     "output_type": "execute_result"
    }
   ],
   "source": [
    "#ANS:\n",
    "def cuben(n):\n",
    "    sum=0\n",
    "    for i in range(0,n+1):\n",
    "        sum=sum+i*i*i\n",
    "    return sum\n",
    "\n",
    "\n",
    "cuben(8)\n"
   ]
  }
 ],
 "metadata": {
  "kernelspec": {
   "display_name": "Python 3 (ipykernel)",
   "language": "python",
   "name": "python3"
  },
  "language_info": {
   "codemirror_mode": {
    "name": "ipython",
    "version": 3
   },
   "file_extension": ".py",
   "mimetype": "text/x-python",
   "name": "python",
   "nbconvert_exporter": "python",
   "pygments_lexer": "ipython3",
   "version": "3.9.7"
  }
 },
 "nbformat": 4,
 "nbformat_minor": 5
}
