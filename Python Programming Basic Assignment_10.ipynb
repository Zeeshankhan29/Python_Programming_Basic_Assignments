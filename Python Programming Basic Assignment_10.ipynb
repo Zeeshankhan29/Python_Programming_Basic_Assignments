{
 "cells": [
  {
   "cell_type": "markdown",
   "id": "d7004873",
   "metadata": {},
   "source": [
    "1.Write a Python program to find sum of elements in list?"
   ]
  },
  {
   "cell_type": "code",
   "execution_count": 81,
   "id": "e544ead2",
   "metadata": {},
   "outputs": [
    {
     "name": "stdout",
     "output_type": "stream",
     "text": [
      "The sum of all the elements in the list are 55\n"
     ]
    }
   ],
   "source": [
    "#ANS:\n",
    "# Create your list\n",
    "l=[1,2,3,4,5,6,7,8,9,10]\n",
    "\n",
    "count=0\n",
    "for i in l:\n",
    "    count=count+i\n",
    "print('The sum of all the elements in the list are',count)\n",
    "\n",
    "    "
   ]
  },
  {
   "cell_type": "code",
   "execution_count": 82,
   "id": "a7e448b0",
   "metadata": {},
   "outputs": [
    {
     "data": {
      "text/plain": [
       "55"
      ]
     },
     "execution_count": 82,
     "metadata": {},
     "output_type": "execute_result"
    }
   ],
   "source": [
    "# Cross-check\n",
    "1+2+3+4+5+6+7+8+9+10"
   ]
  },
  {
   "cell_type": "markdown",
   "id": "e9e3e62e",
   "metadata": {},
   "source": [
    "2.Write a Python program to  Multiply all numbers in the list?"
   ]
  },
  {
   "cell_type": "code",
   "execution_count": 83,
   "id": "b18a6ad5",
   "metadata": {},
   "outputs": [
    {
     "name": "stdout",
     "output_type": "stream",
     "text": [
      "3628800\n"
     ]
    }
   ],
   "source": [
    "#ANS:\n",
    "# Create your list\n",
    "l=[1,2,3,4,5,6,7,8,9,10]\n",
    "count=1\n",
    "for i in l:\n",
    "    count=count*i\n",
    "print(count)\n",
    "\n"
   ]
  },
  {
   "cell_type": "code",
   "execution_count": 84,
   "id": "dc632e91",
   "metadata": {},
   "outputs": [
    {
     "data": {
      "text/plain": [
       "3628800"
      ]
     },
     "execution_count": 84,
     "metadata": {},
     "output_type": "execute_result"
    }
   ],
   "source": [
    "# Cross-check\n",
    "1*2*3*4*5*6*7*8*9*10"
   ]
  },
  {
   "cell_type": "markdown",
   "id": "3c4b27e5",
   "metadata": {},
   "source": [
    "3.Write a Python program to find smallest number in a list?"
   ]
  },
  {
   "cell_type": "code",
   "execution_count": 85,
   "id": "dd7c7713",
   "metadata": {},
   "outputs": [
    {
     "name": "stdout",
     "output_type": "stream",
     "text": [
      "10\n"
     ]
    }
   ],
   "source": [
    "#ANS:\n",
    "# Create your list\n",
    "l=[10,200,400]\n",
    "print(min(l))\n",
    "\n",
    "\n",
    "\n"
   ]
  },
  {
   "cell_type": "markdown",
   "id": "1949b1f7",
   "metadata": {},
   "source": [
    "4.Write a Python program to find largest number in a list?"
   ]
  },
  {
   "cell_type": "code",
   "execution_count": 86,
   "id": "127549fe",
   "metadata": {},
   "outputs": [
    {
     "name": "stdout",
     "output_type": "stream",
     "text": [
      "400\n"
     ]
    }
   ],
   "source": [
    "#ANS:\n",
    "# Create your list\n",
    "l=[10,200,400]\n",
    "print(max(l))\n",
    "\n",
    "\n",
    "\n"
   ]
  },
  {
   "cell_type": "markdown",
   "id": "2dda5712",
   "metadata": {},
   "source": [
    "5.Write a Python program to find second largest number in a list?"
   ]
  },
  {
   "cell_type": "code",
   "execution_count": 87,
   "id": "21ddf577",
   "metadata": {},
   "outputs": [
    {
     "name": "stdout",
     "output_type": "stream",
     "text": [
      "The second largest element in this list is 18\n"
     ]
    }
   ],
   "source": [
    "#ANS:\n",
    "# Create your list\n",
    "l=[10,20,18]\n",
    "l1=sorted(l)\n",
    "print('The second largest element in this list is',l1[1])\n"
   ]
  },
  {
   "cell_type": "markdown",
   "id": "aa35d812",
   "metadata": {},
   "source": [
    "6.Write a Python program to find N largest elements from a list?"
   ]
  },
  {
   "cell_type": "code",
   "execution_count": 89,
   "id": "7f3a7211",
   "metadata": {},
   "outputs": [
    {
     "name": "stdout",
     "output_type": "stream",
     "text": [
      "[298, 900, 1000, 3579]\n"
     ]
    }
   ],
   "source": [
    "#ANS:\n",
    "# Create your list\n",
    "\n",
    "l = [1000,298,3579,100,200,-45,900]\n",
    "n = 4\n",
    "  \n",
    "l.sort()\n",
    "print(l[-n:])\n"
   ]
  },
  {
   "cell_type": "markdown",
   "id": "9d73c98a",
   "metadata": {},
   "source": [
    "7.Write a Python program to print even numbers in a list?"
   ]
  },
  {
   "cell_type": "code",
   "execution_count": 90,
   "id": "364cf908",
   "metadata": {},
   "outputs": [
    {
     "name": "stdout",
     "output_type": "stream",
     "text": [
      "Even Numbers are [2, 4, 6, 8, 10]\n"
     ]
    }
   ],
   "source": [
    "#ANS:\n",
    "# Create your list\n",
    "\n",
    "l=[1,2,3,4,5,6,7,8,9,10]\n",
    "l1=[]\n",
    "for i in l:\n",
    "    if i%2==0:\n",
    "        l1.append(i)\n",
    "print(\"Even Numbers are\",l1)\n",
    "\n"
   ]
  },
  {
   "cell_type": "markdown",
   "id": "d7cf30c1",
   "metadata": {},
   "source": [
    "8.Write a Python program to print odd numbers in a List?"
   ]
  },
  {
   "cell_type": "code",
   "execution_count": 91,
   "id": "16450281",
   "metadata": {},
   "outputs": [
    {
     "name": "stdout",
     "output_type": "stream",
     "text": [
      "Odd Numbers are [1, 3, 5, 7, 9]\n"
     ]
    }
   ],
   "source": [
    "#ANS:\n",
    "# Create your list\n",
    "\n",
    "l=[1,2,3,4,5,6,7,8,9,10]\n",
    "l1=[]\n",
    "for i in l:\n",
    "    if i%2!=0:\n",
    "        l1.append(i)\n",
    "print(\"Odd Numbers are\",l1)\n",
    "\n"
   ]
  },
  {
   "cell_type": "markdown",
   "id": "783e565f",
   "metadata": {},
   "source": [
    "9.Write a Python program to Remove empty List from List?"
   ]
  },
  {
   "cell_type": "code",
   "execution_count": 92,
   "id": "a70182a5",
   "metadata": {},
   "outputs": [
    {
     "data": {
      "text/plain": [
       "[1, 2, 3, 4, 5, 6, 7, 8, 9, 10]"
      ]
     },
     "execution_count": 92,
     "metadata": {},
     "output_type": "execute_result"
    }
   ],
   "source": [
    "#ANS:\n",
    "# Using filter option\n",
    "\n",
    "l=[1,2,3,4,5,6,7,8,[],9,[],10]\n",
    "list(filter(None,l))\n"
   ]
  },
  {
   "cell_type": "markdown",
   "id": "4144828c",
   "metadata": {},
   "source": [
    "10.Write a Python program to Cloning or Copying a list?"
   ]
  },
  {
   "cell_type": "code",
   "execution_count": 93,
   "id": "0c6e1713",
   "metadata": {},
   "outputs": [
    {
     "name": "stdout",
     "output_type": "stream",
     "text": [
      "This is the original list [1, 2, 3, 4, 5, 6, 7, 8, 9, 10]\n",
      "This is the copied list [1, 2, 3, 4, 5, 6, 7, 8, 9, 10]\n"
     ]
    }
   ],
   "source": [
    "#ANS:\n",
    "l=[1,2,3,4,5,6,7,8,9,10]\n",
    "l1=l.copy()\n",
    "print('This is the original list',l)\n",
    "print('This is the copied list',l1)\n"
   ]
  },
  {
   "cell_type": "markdown",
   "id": "f4a97dff",
   "metadata": {},
   "source": [
    "11.Write a Python program to Count occurrences of an element in a list?"
   ]
  },
  {
   "cell_type": "code",
   "execution_count": 94,
   "id": "34b371fb",
   "metadata": {},
   "outputs": [
    {
     "data": {
      "text/plain": [
       "(2, 'has appeared', 3, 'times in this list', [1, 2, 2, 2, 3, 5, 6])"
      ]
     },
     "execution_count": 94,
     "metadata": {},
     "output_type": "execute_result"
    }
   ],
   "source": [
    "#ANS:\n",
    "# We can apply the count funtion\n",
    "\n",
    "def counta(x,y):\n",
    "    return (y ,'has appeared', x.count(y),'times in this list',x)\n",
    "\n",
    "# x is the list to be passed and y is the element count in a list\n",
    "\n",
    "counta([1,2,2,2,3,5,6],2)\n",
    "\n",
    "\n",
    "\n"
   ]
  },
  {
   "cell_type": "code",
   "execution_count": null,
   "id": "d8bd3e8e",
   "metadata": {},
   "outputs": [],
   "source": []
  },
  {
   "cell_type": "code",
   "execution_count": null,
   "id": "b688f493",
   "metadata": {},
   "outputs": [],
   "source": []
  }
 ],
 "metadata": {
  "kernelspec": {
   "display_name": "Python 3 (ipykernel)",
   "language": "python",
   "name": "python3"
  },
  "language_info": {
   "codemirror_mode": {
    "name": "ipython",
    "version": 3
   },
   "file_extension": ".py",
   "mimetype": "text/x-python",
   "name": "python",
   "nbconvert_exporter": "python",
   "pygments_lexer": "ipython3",
   "version": "3.9.7"
  }
 },
 "nbformat": 4,
 "nbformat_minor": 5
}
