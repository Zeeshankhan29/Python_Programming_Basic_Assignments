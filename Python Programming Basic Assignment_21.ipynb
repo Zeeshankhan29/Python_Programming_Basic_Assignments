{
 "cells": [
  {
   "cell_type": "code",
   "execution_count": null,
   "id": "9ca20834",
   "metadata": {},
   "outputs": [],
   "source": [
    "Question1\n",
    "Write a function that takes a list and a number as arguments. Add the number to the end of\n",
    "the list, then remove the first element of the list. The function should then return the updated\n",
    "list.\n",
    "Examples\n",
    "next_in_line([5, 6, 7, 8, 9], 1) ➞ [6, 7, 8, 9, 1]\n",
    "next_in_line([7, 6, 3, 23, 17], 10) ➞ [6, 3, 23, 17, 10]\n",
    "next_in_line([1, 10, ([7, 6, 3, 23, 17], 10)20, 42 ], 6) ➞ [10, 20, 42, 6]\n",
    "next_in_line([], 6) ➞ \"No list has been selected\""
   ]
  },
  {
   "cell_type": "code",
   "execution_count": 378,
   "id": "a291e9f4",
   "metadata": {},
   "outputs": [],
   "source": [
    "#ANS:\n",
    "def list_parser(a,b):\n",
    "    for i in a:\n",
    "        c=a[1:]\n",
    "        c.append(b)\n",
    "        return c\n",
    "        "
   ]
  },
  {
   "cell_type": "code",
   "execution_count": 379,
   "id": "6f6ecf07",
   "metadata": {},
   "outputs": [
    {
     "data": {
      "text/plain": [
       "[6, 7, 8, 9, 1]"
      ]
     },
     "execution_count": 379,
     "metadata": {},
     "output_type": "execute_result"
    }
   ],
   "source": [
    "list_parser([5,6,7,8,9],1)"
   ]
  },
  {
   "cell_type": "code",
   "execution_count": 380,
   "id": "8f6d3c13",
   "metadata": {},
   "outputs": [
    {
     "data": {
      "text/plain": [
       "[76, 7, 8, 9, 2]"
      ]
     },
     "execution_count": 380,
     "metadata": {},
     "output_type": "execute_result"
    }
   ],
   "source": [
    "list_parser([8888,76,7,8,9],2)"
   ]
  },
  {
   "cell_type": "code",
   "execution_count": null,
   "id": "833add8a",
   "metadata": {},
   "outputs": [],
   "source": [
    "Question2\n",
    "Create the function that takes a list of dictionaries and returns the sum of people's budgets.\n",
    "Examples\n",
    "get_budgets([\n",
    "{ \"name\": \"John\", \"age\": 21, \"budget\": 23000 },\n",
    "{ \"name\": \"Steve\", \"age\": 32, \"budget\": 40000 },\n",
    "{ \"name\": \"Martin\", \"age\": 16, \"budget\": 2700 }\n",
    "]) ➞ 65700\n",
    "get_budgets([\n",
    "{ \"name\": \"John\", \"age\": 21, \"budget\": 29000 },\n",
    "{ \"name\": \"Steve\", \"age\": 32, \"budget\": 32000 },\n",
    "{ \"name\": \"Martin\", \"age\": 16, \"budget\": 1600 }\n",
    "]) ➞ 62600"
   ]
  },
  {
   "cell_type": "code",
   "execution_count": 381,
   "id": "9206d3c2",
   "metadata": {},
   "outputs": [],
   "source": [
    "#ANS:\n",
    "def dic(l):\n",
    "    d1={}\n",
    "    h=[]\n",
    "    for i in l:\n",
    "        for j in i:\n",
    "            if j==\"budget\":\n",
    "                d1[j] = i[j]\n",
    "        for i in d1:\n",
    "            h.append(d1['budget'])\n",
    "    count=0\n",
    "    for i in h:\n",
    "        count=count+i\n",
    "    print(count)\n"
   ]
  },
  {
   "cell_type": "code",
   "execution_count": 382,
   "id": "cb7896e2",
   "metadata": {},
   "outputs": [
    {
     "name": "stdout",
     "output_type": "stream",
     "text": [
      "62600\n"
     ]
    }
   ],
   "source": [
    "dic([\n",
    "{ \"name\": \"John\", \"age\": 21, \"budget\": 29000 },\n",
    "{ \"name\": \"Steve\", \"age\": 32, \"budget\": 32000 },\n",
    "{ \"name\": \"Martin\", \"age\": 16, \"budget\": 1600 }\n",
    "])"
   ]
  },
  {
   "cell_type": "code",
   "execution_count": 391,
   "id": "c6db29a1",
   "metadata": {},
   "outputs": [
    {
     "name": "stdout",
     "output_type": "stream",
     "text": [
      "65700\n"
     ]
    }
   ],
   "source": [
    "dic([\n",
    "{ \"name\": \"John\", \"age\": 21, \"budget\": 23000 },\n",
    "{ \"name\": \"Steve\", \"age\": 32, \"budget\": 40000 },\n",
    "{ \"name\": \"Martin\", \"age\": 16, \"budget\": 2700 }\n",
    "])"
   ]
  },
  {
   "cell_type": "code",
   "execution_count": null,
   "id": "e253aebd",
   "metadata": {},
   "outputs": [],
   "source": [
    "Question3\n",
    "Create a function that takes a string and returns a string with its letters in alphabetical order.\n",
    "Examples\n",
    "alphabet_soup(\"hello\") ➞ \"ehllo\"\n",
    "alphabet_soup(\"edabit\") ➞ \"abdeit\"\n",
    "alphabet_soup(\"hacker\") ➞ \"acehkr\"\n",
    "alphabet_soup(\"geek\") ➞ \"eegk\"\n",
    "alphabet_soup(\"javascript\") ➞ \"aacijprstv\""
   ]
  },
  {
   "cell_type": "code",
   "execution_count": 447,
   "id": "7cfb21e9",
   "metadata": {},
   "outputs": [],
   "source": [
    "#ANS:\n",
    "def proper(a):\n",
    "    b=sorted(a)\n",
    "    alp= ''\n",
    "    for i in b:\n",
    "        alp=alp+i\n",
    "    return alp"
   ]
  },
  {
   "cell_type": "code",
   "execution_count": 448,
   "id": "e71e6c66",
   "metadata": {},
   "outputs": [
    {
     "data": {
      "text/plain": [
       "'aacijprstv'"
      ]
     },
     "execution_count": 448,
     "metadata": {},
     "output_type": "execute_result"
    }
   ],
   "source": [
    "proper(\"hello\") \n",
    "proper(\"edabit\") \n",
    "proper(\"hacker\") \n",
    "proper(\"geek\")\n",
    "proper(\"javascript\") "
   ]
  },
  {
   "cell_type": "code",
   "execution_count": 449,
   "id": "e5dbfbc9",
   "metadata": {},
   "outputs": [
    {
     "data": {
      "text/plain": [
       "'eegk'"
      ]
     },
     "execution_count": 449,
     "metadata": {},
     "output_type": "execute_result"
    }
   ],
   "source": [
    "proper(\"hello\") \n",
    "proper(\"edabit\") \n",
    "proper(\"hacker\") \n",
    "proper(\"geek\")"
   ]
  },
  {
   "cell_type": "code",
   "execution_count": 450,
   "id": "e95ff2c2",
   "metadata": {},
   "outputs": [
    {
     "data": {
      "text/plain": [
       "'acehkr'"
      ]
     },
     "execution_count": 450,
     "metadata": {},
     "output_type": "execute_result"
    }
   ],
   "source": [
    "\n",
    "proper(\"hacker\") "
   ]
  },
  {
   "cell_type": "code",
   "execution_count": null,
   "id": "5b2055b4",
   "metadata": {},
   "outputs": [],
   "source": [
    "Question4\n",
    "Suppose that you invest $10,000 for 10 years at an interest rate of 6% compounded monthly.\n",
    "What will be the value of your investment at the end of the 10 year period?\n",
    "Create a function that accepts the principal p, the term in years t, the interest rate r, and the\n",
    "number of compounding periods per year n. The function returns the value at the end of term\n",
    "rounded to the nearest cent.\n",
    "For the example above:\n",
    "compound_interest(10000, 10, 0.06, 12) ➞ 18193.97\n",
    "Note that the interest rate is given as a decimal and n=12 because with monthly compounding\n",
    "there are 12 periods per year. Compounding can also be done annually, quarterly, weekly, or\n",
    "daily.\n",
    "Examples\n",
    "compound_interest(100, 1, 0.05, 1) ➞ 105.0\n",
    "compound_interest(3500, 15, 0.1, 4) ➞ 15399.26\n",
    "compound_interest(100000, 20, 0.15, 365) ➞ 2007316.26"
   ]
  },
  {
   "cell_type": "code",
   "execution_count": 480,
   "id": "55fd45f9",
   "metadata": {},
   "outputs": [],
   "source": [
    "#ANS:\n",
    "def com_in(P,r,n,y):\n",
    "    FV = P * (((1 + ((r/100.0)/n)) ** (n*y)))\n",
    "    return FV"
   ]
  },
  {
   "cell_type": "code",
   "execution_count": 481,
   "id": "ff21c528",
   "metadata": {},
   "outputs": [
    {
     "data": {
      "text/plain": [
       "19331.820449317627"
      ]
     },
     "execution_count": 481,
     "metadata": {},
     "output_type": "execute_result"
    }
   ],
   "source": [
    "com_in(10000, 12, 0.06, 10)"
   ]
  },
  {
   "cell_type": "code",
   "execution_count": null,
   "id": "d48aeb5b",
   "metadata": {},
   "outputs": [],
   "source": [
    "Question5\n",
    "Write a function that takes a list of elements and returns only the integers.\n",
    "Examples\n",
    "return_only_integer([9, 2, \"space\", \"car\", \"lion\", 16]) ➞ [9, 2, 16]\n",
    "return_only_integer([\"hello\", 81, \"basketball\", 123, \"fox\"]) ➞ [81, 123]\n",
    "return_only_integer([10, \"121\", 56, 20, \"car\", 3, \"lion\"]) ➞ [10, 56, 20,\n",
    "3]\n",
    "return_only_integer([\"String\", True, 3.3, 1]) ➞ [1]"
   ]
  },
  {
   "cell_type": "code",
   "execution_count": 487,
   "id": "393ffda3",
   "metadata": {},
   "outputs": [],
   "source": [
    "#ANS:\n",
    "def int_fil(a):\n",
    "    l1=[]\n",
    "    for i in a:\n",
    "        if type(i)==int:\n",
    "            l1.append(i)\n",
    "    return l1"
   ]
  },
  {
   "cell_type": "code",
   "execution_count": 488,
   "id": "79de1890",
   "metadata": {},
   "outputs": [
    {
     "data": {
      "text/plain": [
       "[9, 2, 16]"
      ]
     },
     "execution_count": 488,
     "metadata": {},
     "output_type": "execute_result"
    }
   ],
   "source": [
    "int_fil([9, 2, \"space\", \"car\", \"lion\", 16])"
   ]
  },
  {
   "cell_type": "code",
   "execution_count": 489,
   "id": "8ee313d6",
   "metadata": {},
   "outputs": [
    {
     "data": {
      "text/plain": [
       "[81, 123]"
      ]
     },
     "execution_count": 489,
     "metadata": {},
     "output_type": "execute_result"
    }
   ],
   "source": [
    "int_fil([\"hello\", 81, \"basketball\", 123, \"fox\"])"
   ]
  }
 ],
 "metadata": {
  "kernelspec": {
   "display_name": "Python 3 (ipykernel)",
   "language": "python",
   "name": "python3"
  },
  "language_info": {
   "codemirror_mode": {
    "name": "ipython",
    "version": 3
   },
   "file_extension": ".py",
   "mimetype": "text/x-python",
   "name": "python",
   "nbconvert_exporter": "python",
   "pygments_lexer": "ipython3",
   "version": "3.9.7"
  }
 },
 "nbformat": 4,
 "nbformat_minor": 5
}
