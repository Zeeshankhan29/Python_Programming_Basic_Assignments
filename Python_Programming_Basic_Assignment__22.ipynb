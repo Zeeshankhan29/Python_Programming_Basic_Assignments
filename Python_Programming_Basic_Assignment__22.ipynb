{
 "cells": [
  {
   "cell_type": "code",
   "execution_count": null,
   "id": "620fbcfd",
   "metadata": {},
   "outputs": [],
   "source": [
    "#Question1\n",
    "Create a function that takes three parameters where:\n",
    " x is the start of the range (inclusive).\n",
    " y is the end of the range (inclusive).\n",
    " n is the divisor to be checked against.\n",
    "Return an ordered list with numbers in the range that are divisible by the third parameter n.\n",
    "Return an empty list if there are no numbers that are divisible by n.\n",
    "Examples\n",
    "list_operation(1, 10, 3) ➞ [3, 6, 9]\n",
    "list_operation(7, 9, 2) ➞ [8]\n",
    "list_operation(15, 20, 7) ➞ []"
   ]
  },
  {
   "cell_type": "code",
   "execution_count": 2,
   "id": "c6343516",
   "metadata": {},
   "outputs": [],
   "source": [
    "#ANS:\n",
    "#we can use the following function to acheive the target.\n",
    "def call(x,y,n):\n",
    "    l1=[]\n",
    "    for i in range(x,y):\n",
    "        if i%n==0:\n",
    "            l1.append(i)\n",
    "    return l1\n",
    "\n",
    "\n",
    "# we have achieved the result as shown below.    \n",
    "        "
   ]
  },
  {
   "cell_type": "code",
   "execution_count": 3,
   "id": "41f71dca",
   "metadata": {},
   "outputs": [
    {
     "data": {
      "text/plain": [
       "[3, 6, 9]"
      ]
     },
     "execution_count": 3,
     "metadata": {},
     "output_type": "execute_result"
    }
   ],
   "source": [
    "call(1,10,3)"
   ]
  },
  {
   "cell_type": "code",
   "execution_count": 4,
   "id": "3e75fc49",
   "metadata": {},
   "outputs": [
    {
     "data": {
      "text/plain": [
       "[8]"
      ]
     },
     "execution_count": 4,
     "metadata": {},
     "output_type": "execute_result"
    }
   ],
   "source": [
    "call(7,9,2)"
   ]
  },
  {
   "cell_type": "code",
   "execution_count": 5,
   "id": "10eda450",
   "metadata": {},
   "outputs": [
    {
     "data": {
      "text/plain": [
       "[]"
      ]
     },
     "execution_count": 5,
     "metadata": {},
     "output_type": "execute_result"
    }
   ],
   "source": [
    "call(15,20,7)"
   ]
  },
  {
   "cell_type": "code",
   "execution_count": null,
   "id": "5ea9143a",
   "metadata": {},
   "outputs": [],
   "source": [
    "#Question2\n",
    "Create a function that takes in two lists and returns True if the second list follows the first list\n",
    "by one element, and False otherwise. In other words, determine if the second list is the first\n",
    "list shifted to the right by 1.\n",
    "Examples\n",
    "simon_says([1, 2], [5, 1]) ➞ True\n",
    "simon_says([1, 2], [5, 5]) ➞ False\n",
    "simon_says([1, 2, 3, 4, 5], [0, 1, 2, 3, 4]) ➞ True\n",
    "simon_says([1, 2, 3, 4, 5], [5, 5, 1, 2, 3]) ➞ False\n",
    "Notes\n",
    " Both input lists will be of the same length, and will have a minimum length of 2.\n",
    " The values of the 0-indexed element in the second list and the n-1th indexed element\n",
    "in the first list do not matter."
   ]
  },
  {
   "cell_type": "code",
   "execution_count": 6,
   "id": "ca927247",
   "metadata": {},
   "outputs": [],
   "source": [
    "#ANS:\n",
    "# we can achieve this using.\n",
    "def callme(l,l2):\n",
    "    if l[0]==l2[1]:\n",
    "        return True\n",
    "    else:\n",
    "        return False\n",
    "    \n",
    "    \n",
    "# we have achieved the result as shown below.    \n",
    "        \n",
    "    "
   ]
  },
  {
   "cell_type": "code",
   "execution_count": 8,
   "id": "bdecc46b",
   "metadata": {},
   "outputs": [
    {
     "data": {
      "text/plain": [
       "True"
      ]
     },
     "execution_count": 8,
     "metadata": {},
     "output_type": "execute_result"
    }
   ],
   "source": [
    "callme([1, 2], [5, 1])"
   ]
  },
  {
   "cell_type": "code",
   "execution_count": 9,
   "id": "5f0381f0",
   "metadata": {},
   "outputs": [
    {
     "data": {
      "text/plain": [
       "False"
      ]
     },
     "execution_count": 9,
     "metadata": {},
     "output_type": "execute_result"
    }
   ],
   "source": [
    "callme([1, 2], [5, 5]) "
   ]
  },
  {
   "cell_type": "code",
   "execution_count": 10,
   "id": "8806ab51",
   "metadata": {},
   "outputs": [
    {
     "data": {
      "text/plain": [
       "True"
      ]
     },
     "execution_count": 10,
     "metadata": {},
     "output_type": "execute_result"
    }
   ],
   "source": [
    "callme([1, 2, 3, 4, 5], [0, 1, 2, 3, 4])"
   ]
  },
  {
   "cell_type": "code",
   "execution_count": 11,
   "id": "0613b5b5",
   "metadata": {},
   "outputs": [
    {
     "data": {
      "text/plain": [
       "False"
      ]
     },
     "execution_count": 11,
     "metadata": {},
     "output_type": "execute_result"
    }
   ],
   "source": [
    "callme([1, 2, 3, 4, 5], [5, 5, 1, 2, 3])"
   ]
  },
  {
   "cell_type": "code",
   "execution_count": null,
   "id": "d5fe8d15",
   "metadata": {},
   "outputs": [],
   "source": [
    "Question3\n",
    "A group of friends have decided to start a secret society. The name will be the first letter of\n",
    "each of their names, sorted in alphabetical order.\n",
    "Create a function that takes in a list of names and returns the name of the secret society.\n",
    "Examples\n",
    "society_name([\"Adam\", \"Sarah\", \"Malcolm\"]) ➞ \"AMS\"\n",
    "society_name([\"Harry\", \"Newt\", \"Luna\", \"Cho\"]) ➞ \"CHLN\"\n",
    "society_name([\"Phoebe\", \"Chandler\", \"Rachel\", \"Ross\", \"Monica\", \"Joey\"])"
   ]
  },
  {
   "cell_type": "code",
   "execution_count": 13,
   "id": "60c62641",
   "metadata": {},
   "outputs": [],
   "source": [
    "# The below shows the result.\n",
    "def sec(a):\n",
    "    l=[]\n",
    "    l2=''\n",
    "    l.append(a[0][0])\n",
    "    l.append(a[1][0])\n",
    "    l.append(a[2][0])\n",
    "    l.append(a[3][0])\n",
    "    l.append(a[4][0])\n",
    "    l.append(a[5][0])\n",
    "    for i in l:\n",
    "        l2=l2+i\n",
    "    return l2\n",
    "        \n",
    "       "
   ]
  },
  {
   "cell_type": "code",
   "execution_count": 14,
   "id": "741735cf",
   "metadata": {},
   "outputs": [
    {
     "data": {
      "text/plain": [
       "'PCRRMJ'"
      ]
     },
     "execution_count": 14,
     "metadata": {},
     "output_type": "execute_result"
    }
   ],
   "source": [
    "sec([\"Phoebe\", \"Chandler\", \"Rachel\", \"Ross\", \"Monica\", \"Joey\"])\n"
   ]
  },
  {
   "cell_type": "code",
   "execution_count": null,
   "id": "55cb68f7",
   "metadata": {},
   "outputs": [],
   "source": [
    "#Question4\n",
    "An isogram is a word that has no duplicate letters. Create a function that takes a string and\n",
    "returns either True or False depending on whether or not it's an \"isogram\".\n",
    "Examples\n",
    "is_isogram(\"Algorism\") ➞ True\n",
    "is_isogram(\"PasSword\") ➞ False\n",
    "# Not case sensitive.\n",
    "is_isogram(\"Consecutive\") ➞ False\n",
    "Notes\n",
    " Ignore letter case (should not be case sensitive).\n",
    " All test cases contain valid one word strings."
   ]
  },
  {
   "cell_type": "code",
   "execution_count": 15,
   "id": "761ebce8",
   "metadata": {},
   "outputs": [],
   "source": [
    "#ANS:\n",
    "def char(l):\n",
    "    return len(l)==len(set(l.lower()))\n",
    "\n",
    "\n",
    "# we have shown the result below."
   ]
  },
  {
   "cell_type": "code",
   "execution_count": 16,
   "id": "8be94c8e",
   "metadata": {},
   "outputs": [
    {
     "data": {
      "text/plain": [
       "True"
      ]
     },
     "execution_count": 16,
     "metadata": {},
     "output_type": "execute_result"
    }
   ],
   "source": [
    "char(\"Algorism\")"
   ]
  },
  {
   "cell_type": "code",
   "execution_count": 17,
   "id": "f5239165",
   "metadata": {},
   "outputs": [
    {
     "data": {
      "text/plain": [
       "False"
      ]
     },
     "execution_count": 17,
     "metadata": {},
     "output_type": "execute_result"
    }
   ],
   "source": [
    "char(\"PasSword\")"
   ]
  },
  {
   "cell_type": "code",
   "execution_count": 18,
   "id": "1da6d941",
   "metadata": {},
   "outputs": [
    {
     "data": {
      "text/plain": [
       "False"
      ]
     },
     "execution_count": 18,
     "metadata": {},
     "output_type": "execute_result"
    }
   ],
   "source": [
    "char(\"Consecutive\")"
   ]
  },
  {
   "cell_type": "code",
   "execution_count": null,
   "id": "e22c0e56",
   "metadata": {},
   "outputs": [],
   "source": [
    "#Question5\n",
    "Create a function that takes a string and returns True or False, depending on whether the\n",
    "characters are in order or not.\n",
    "Examples\n",
    "is_in_order(\"abc\") ➞ True\n",
    "is_in_order(\"edabit\") ➞ False\n",
    "is_in_order(\"123\") ➞ True\n",
    "is_in_order(\"xyzz\") ➞ True\n",
    "Notes\n",
    "You don't have to handle empty strings."
   ]
  },
  {
   "cell_type": "code",
   "execution_count": 78,
   "id": "835169c6",
   "metadata": {},
   "outputs": [],
   "source": [
    "#ANS:\n",
    "def sor(a):\n",
    "    l1=\"\"\n",
    "    for i in a:\n",
    "        l1=l1+i\n",
    "    c=sorted(l1)\n",
    "    str=\"\"\n",
    "    for i in c:\n",
    "        str+=i\n",
    "    if str==a:\n",
    "        print(\"True\")\n",
    "    else:\n",
    "        print(\"False\")\n",
    "    \n",
    "#We can achieve the result "
   ]
  },
  {
   "cell_type": "code",
   "execution_count": 86,
   "id": "84fb43b4",
   "metadata": {},
   "outputs": [
    {
     "name": "stdout",
     "output_type": "stream",
     "text": [
      "True\n"
     ]
    }
   ],
   "source": [
    "sor(\"abc\")"
   ]
  },
  {
   "cell_type": "code",
   "execution_count": 87,
   "id": "18617bdc",
   "metadata": {},
   "outputs": [
    {
     "name": "stdout",
     "output_type": "stream",
     "text": [
      "False\n"
     ]
    }
   ],
   "source": [
    "sor(\"edabit\")"
   ]
  },
  {
   "cell_type": "code",
   "execution_count": 88,
   "id": "1b259e3b",
   "metadata": {},
   "outputs": [
    {
     "name": "stdout",
     "output_type": "stream",
     "text": [
      "True\n"
     ]
    }
   ],
   "source": [
    "sor('123')"
   ]
  },
  {
   "cell_type": "code",
   "execution_count": 89,
   "id": "43ff7aa6",
   "metadata": {},
   "outputs": [
    {
     "name": "stdout",
     "output_type": "stream",
     "text": [
      "True\n"
     ]
    }
   ],
   "source": [
    "sor('xyzz')"
   ]
  },
  {
   "cell_type": "code",
   "execution_count": null,
   "id": "a49a1086",
   "metadata": {},
   "outputs": [],
   "source": []
  }
 ],
 "metadata": {
  "kernelspec": {
   "display_name": "Python 3 (ipykernel)",
   "language": "python",
   "name": "python3"
  },
  "language_info": {
   "codemirror_mode": {
    "name": "ipython",
    "version": 3
   },
   "file_extension": ".py",
   "mimetype": "text/x-python",
   "name": "python",
   "nbconvert_exporter": "python",
   "pygments_lexer": "ipython3",
   "version": "3.9.7"
  }
 },
 "nbformat": 4,
 "nbformat_minor": 5
}
